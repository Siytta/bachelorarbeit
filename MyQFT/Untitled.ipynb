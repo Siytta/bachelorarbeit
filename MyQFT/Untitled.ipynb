{
 "cells": [
  {
   "cell_type": "code",
   "execution_count": 19,
   "id": "78bfa1ae-a3e3-42cd-842a-2263cfa59319",
   "metadata": {},
   "outputs": [],
   "source": [
    "from qiskit import qiskit\n",
    "from numpy import pi\n",
    "\n",
    "def unitary_operator_c(theta):\n",
    "    return (qiskit.circuit.library.standard_gates.PhaseGate(theta,str(theta))).control(1)\n",
    "\n",
    "def apply_unitary_operator(quantum_circuit, theta, control, target, exponent):\n",
    "    #Rechne theta * exponent da schneller als exponent-Fache anwendung von U\n",
    "    quantum_circuit.append(unitary_operator_c(theta/(2**exponent)),[control, target])\n",
    "\n",
    "def myQFT(quantum_circuit, measurement_qubits, inverse = False, swaps = False):\n",
    "    if not inverse:\n",
    "        index = 0\n",
    "        for target in measurement_qubits:\n",
    "            quantum_circuit.barrier()\n",
    "            exponent = 2\n",
    "            quantum_circuit.h(target)\n",
    "            for control in measurement_qubits[index + 1:]:\n",
    "                apply_unitary_operator(quantum_circuit, 2 * pi, control, target, exponent)\n",
    "                exponent+=1\n",
    "            index+=1\n",
    "        quantum_circuit.barrier()\n",
    "        if swaps:\n",
    "            for x in range(0, len(measurement_qubits)//2):\n",
    "                quantum_circuit.swap(measurement_qubits[x], measurement_qubits[len(measurement_qubits) - 1 - x])\n",
    "                x+=1\n",
    "        quantum_circuit.barrier()\n",
    "    else:\n",
    "        if swaps:\n",
    "            quantum_circuit.barrier()\n",
    "            for x in range(0, len(measurement_qubits)//2):\n",
    "                quantum_circuit.swap(measurement_qubits[x], measurement_qubits[len(measurement_qubits) - 1 - x])\n",
    "                x+=1\n",
    "        index = len(measurement_qubits) -1\n",
    "        for target in reversed(measurement_qubits):\n",
    "            quantum_circuit.barrier()\n",
    "            exponent = len(measurement_qubits[index + 1:]) + 1\n",
    "            for control in reversed(measurement_qubits[index + 1:]):\n",
    "                apply_unitary_operator(quantum_circuit, -2 * pi, control, target, exponent)\n",
    "                exponent -= 1\n",
    "            quantum_circuit.h(target)\n",
    "            index-=1\n",
    "        quantum_circuit.barrier()"
   ]
  }
 ],
 "metadata": {
  "kernelspec": {
   "display_name": "Python 3 (ipykernel)",
   "language": "python",
   "name": "python3"
  },
  "language_info": {
   "codemirror_mode": {
    "name": "ipython",
    "version": 3
   },
   "file_extension": ".py",
   "mimetype": "text/x-python",
   "name": "python",
   "nbconvert_exporter": "python",
   "pygments_lexer": "ipython3",
   "version": "3.10.6"
  }
 },
 "nbformat": 4,
 "nbformat_minor": 5
}
