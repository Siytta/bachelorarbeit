{
 "cells": [
  {
   "cell_type": "code",
   "execution_count": 49,
   "id": "cdab4083-36b1-4c7b-91d7-49eeeda554f7",
   "metadata": {},
   "outputs": [
    {
     "ename": "ModuleNotFoundError",
     "evalue": "No module named 'myQFT'",
     "output_type": "error",
     "traceback": [
      "\u001b[0;31m---------------------------------------------------------------------------\u001b[0m",
      "\u001b[0;31mModuleNotFoundError\u001b[0m                       Traceback (most recent call last)",
      "Cell \u001b[0;32mIn[49], line 3\u001b[0m\n\u001b[1;32m      1\u001b[0m \u001b[38;5;28;01mfrom\u001b[39;00m \u001b[38;5;21;01mqiskit\u001b[39;00m \u001b[38;5;28;01mimport\u001b[39;00m qiskit\n\u001b[1;32m      2\u001b[0m \u001b[38;5;28;01mfrom\u001b[39;00m \u001b[38;5;21;01mnumpy\u001b[39;00m \u001b[38;5;28;01mimport\u001b[39;00m pi\n\u001b[0;32m----> 3\u001b[0m \u001b[38;5;28;01mimport\u001b[39;00m \u001b[38;5;21;01mmyQFT\u001b[39;00m\n",
      "\u001b[0;31mModuleNotFoundError\u001b[0m: No module named 'myQFT'"
     ]
    }
   ],
   "source": [
    "from qiskit import qiskit\n",
    "from numpy import pi\n",
    "import myQFT"
   ]
  },
  {
   "cell_type": "code",
   "execution_count": 42,
   "id": "95c1602a-0b03-433b-8590-68ea28de32a8",
   "metadata": {},
   "outputs": [],
   "source": [
    "def P_Gate(theta: float, controls: int = 0) -> qiskit.circuit.library.standard_gates.PhaseGate:\n",
    "    \"\"\"Returns a Phase Gate with *controls* many controlled inputs\n",
    "        A single Qubit Phase Gate looks like this:\n",
    "        ( 1        0     )\n",
    "        ( 0  e^(i*theta) )\n",
    "\n",
    "    Parameters:\n",
    "    theta: float\n",
    "        determines the phase shift\n",
    "    controls: int\n",
    "        defines the amount of control bits. Default = 0\n",
    "\n",
    "    Returns: Phase Gate with *controls* many controlled inputs\n",
    "    \"\"\"\n",
    "    if controls > 0:\n",
    "        return (qiskit.circuit.library.standard_gates.PhaseGate(theta,str(theta))).control(controls)\n",
    "    else:\n",
    "        return (qiskit.circuit.library.standard_gates.PhaseGate(theta,str(theta)))\n",
    "\n",
    "def calculate_A_Gate(target_bit_index: int,a_bin: list[int]) -> qiskit.circuit.library.standard_gates.PhaseGate:\n",
    "    \"\"\"Returns an Addition Gate for the quantum Addition as descriped by Beauregard(Stêphane Beauregard, Circuit for Shor’s algorithm using 2n+3 qubits, https://arxiv.org/pdf/quant-ph/0205095.pdf) \n",
    "        Infact this is a Phase Gate with added up theta's depending/controlled by the binary representation of the classically summand(a)\n",
    "\n",
    "    Parameters:\n",
    "    target_bit_index: int\n",
    "        Index of the target Qubit of the Quantum summand b. The Most significant Bit should be index 0 while the last element/Least significant Bit should have index n-1 while having a whole of n qubits.\n",
    "    a_bin: list[int]\n",
    "        Binary representation of the classically summand a. The first element of the list needs to be the Most significant Bit & the last element the Least significant Bit. Example [1,0,0] to represent the decimal number 4.\n",
    "\n",
    "    Returns: single Qubit Phase Gate \n",
    "    \"\"\"\n",
    "    theta, exponent, index_controller_bit = 0.0, 1, target_bit_index\n",
    "    for _ in range(target_bit_index, len(a_bin)):\n",
    "        if a_bin[index_controller_bit] == 1:\n",
    "            theta+= 2*pi/(2**(exponent))\n",
    "        exponent+=1\n",
    "        index_controller_bit+=1\n",
    "    return P_Gate(theta)"
   ]
  },
  {
   "cell_type": "code",
   "execution_count": null,
   "id": "6af7210d-a911-4f67-ad28-ee9f986951b3",
   "metadata": {},
   "outputs": [],
   "source": [
    "qc = qiskit.QuantumCircuit(2,1)\n",
    "a = controlled_P_Gate(0,0)\n",
    "qc.append(a,[0])\n",
    "qc.draw()\n"
   ]
  },
  {
   "cell_type": "code",
   "execution_count": 40,
   "id": "5dbc316b-6909-48f5-a928-861492fcdd53",
   "metadata": {},
   "outputs": [
    {
     "data": {
      "text/plain": [
       "3.141592653589793"
      ]
     },
     "execution_count": 40,
     "metadata": {},
     "output_type": "execute_result"
    }
   ],
   "source": []
  },
  {
   "cell_type": "code",
   "execution_count": null,
   "id": "6b68336f-56e8-48d6-9dcd-0b31caf5e2d3",
   "metadata": {},
   "outputs": [],
   "source": []
  }
 ],
 "metadata": {
  "kernelspec": {
   "display_name": "Python 3 (ipykernel)",
   "language": "python",
   "name": "python3"
  },
  "language_info": {
   "codemirror_mode": {
    "name": "ipython",
    "version": 3
   },
   "file_extension": ".py",
   "mimetype": "text/x-python",
   "name": "python",
   "nbconvert_exporter": "python",
   "pygments_lexer": "ipython3",
   "version": "3.10.6"
  }
 },
 "nbformat": 4,
 "nbformat_minor": 5
}
